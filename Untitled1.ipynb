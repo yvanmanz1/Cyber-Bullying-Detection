{
 "cells": [
  {
   "cell_type": "code",
   "execution_count": 3,
   "id": "3e9d9307-849e-4c20-837d-f03647538ec6",
   "metadata": {},
   "outputs": [],
   "source": [
    "import pandas as pd\n",
    "from sklearn.tree import DecisionTreeClassifier\n",
    "from sklearn import svm\n",
    "from sklearn.ensemble import RandomForestClassifier\n",
    "from sklearn.metrics import accuracy_score\n",
    "from sklearn.model_selection import train_test_split\n",
    "from sklearn.feature_extraction.text import CountVectorizer\n",
    "from sklearn.linear_model import LogisticRegression\n",
    "from sklearn.metrics import accuracy_score, classification_report\n",
    "#Import Data from CSV file \n",
    "df = pd.read_csv('cyberbullying_tweets.csv')\n",
    "df['tweet_text'] = df['tweet_text'].str.lower()\n",
    "X_train, X_test, y_train, y_test = train_test_split(df['tweet_text'], df['cyberbullying_type'], test_size=0.2, random_state=42)"
   ]
  },
  {
   "cell_type": "code",
   "execution_count": 8,
   "id": "7330b227-2577-48aa-914c-beec3adbc4be",
   "metadata": {},
   "outputs": [],
   "source": [
    "# Feature Extraction using Bag of Words\n",
    "vectorizer = CountVectorizer(stop_words='english')\n",
    "X_train_bow = vectorizer.fit_transform(X_train)\n",
    "X_test_bow = vectorizer.transform(X_test)"
   ]
  },
  {
   "cell_type": "code",
   "execution_count": null,
   "id": "bbd97607-bf3c-4f91-9aff-f1e9ca7dee4b",
   "metadata": {},
   "outputs": [],
   "source": [
    "# Feature Extraction using Bag of Words\n",
    "vectorizer = CountVectorizer(stop_words='english')\n",
    "X_train_bow = vectorizer.fit_transform(X_train)\n",
    "X_test_bow = vectorizer.transform(X_test)\n",
    "\n",
    "# Train Decision Tree model\n",
    "Decision_tree_model = DecisionTreeClassifier(max_depth=10)  # Example, adjust max_depth\n",
    "Decision_tree_model.fit(X_train_bow, y_train)\n",
    "\n",
    "\n",
    "# Train Logistic Regression model\n",
    "Logistic_regression_Model = LogisticRegression(solver='lbfgs', max_iter=10000)\n",
    "Logistic_regression_Model.fit(X_train_bow, y_train)\n",
    "\n",
    "# Train SVM model\n",
    "SVM_model = svm.SVC(kernel='linear')\n",
    "SVM_model.fit(X_train_bow, y_train)\n",
    "\n",
    "# Train Random Forest model\n",
    "RF_model = RandomForestClassifier(n_estimators=100)\n",
    "RF_model.fit(X_train_bow, y_train)"
   ]
  },
  {
   "cell_type": "code",
   "execution_count": null,
   "id": "11b583a0-d5a9-499b-bb3f-a7517da18743",
   "metadata": {},
   "outputs": [],
   "source": [
    "DT_Prediction =Decision_tree_model.predict(x_test)\n",
    "LR_Prediction =Logistic_regression_Model.predict(x_test)\n",
    "SVM_Prediction =SVM_model.predict(x_test)\n",
    "RF_Prediction =RF_model.predict(x_test)"
   ]
  },
  {
   "cell_type": "code",
   "execution_count": 1,
   "id": "467f1e4c-fe24-4212-a479-62d086340c62",
   "metadata": {},
   "outputs": [
    {
     "ename": "NameError",
     "evalue": "name 'accuracy_score' is not defined",
     "output_type": "error",
     "traceback": [
      "\u001b[1;31m---------------------------------------------------------------------------\u001b[0m",
      "\u001b[1;31mNameError\u001b[0m                                 Traceback (most recent call last)",
      "Cell \u001b[1;32mIn[1], line 2\u001b[0m\n\u001b[0;32m      1\u001b[0m \u001b[38;5;66;03m# Calculation of Model Accuracy\u001b[39;00m\n\u001b[1;32m----> 2\u001b[0m DT_score\u001b[38;5;241m=\u001b[39m\u001b[43maccuracy_score\u001b[49m(y_test, DT_Prediction)\n\u001b[0;32m      3\u001b[0m lR_score\u001b[38;5;241m=\u001b[39maccuracy_score(y_test, LR_Prediction)\n\u001b[0;32m      4\u001b[0m SVM_score\u001b[38;5;241m=\u001b[39maccuracy_score(y_test, SVM_Prediction)\n",
      "\u001b[1;31mNameError\u001b[0m: name 'accuracy_score' is not defined"
     ]
    }
   ],
   "source": [
    "# Calculation of Model Accuracy\n",
    "DT_score=accuracy_score(y_test, DT_Prediction)\n",
    "lR_score=accuracy_score(y_test, LR_Prediction)\n",
    "SVM_score=accuracy_score(y_test, SVM_Prediction)\n",
    "RF_score=accuracy_score(y_test, RF_Prediction)\n",
    "# Display Accuracy\n",
    "print (\"Decistion Tree accuracy =\", DT_score*100,\"%\")\n",
    "print (\"Logistic Regression accuracy =\", lR_score*100,\"%\")\n",
    "print (\"Suport Vector Machine accuracy =\", SVM_score*100,\"%\")\n",
    "print (\"Random Forest accuracy =\", RF_score*100,\"%\")\n"
   ]
  },
  {
   "cell_type": "code",
   "execution_count": null,
   "id": "77129831-ad72-4569-a86f-735177007a0c",
   "metadata": {},
   "outputs": [],
   "source": []
  }
 ],
 "metadata": {
  "kernelspec": {
   "display_name": "Python 3 (ipykernel)",
   "language": "python",
   "name": "python3"
  },
  "language_info": {
   "codemirror_mode": {
    "name": "ipython",
    "version": 3
   },
   "file_extension": ".py",
   "mimetype": "text/x-python",
   "name": "python",
   "nbconvert_exporter": "python",
   "pygments_lexer": "ipython3",
   "version": "3.11.5"
  }
 },
 "nbformat": 4,
 "nbformat_minor": 5
}
